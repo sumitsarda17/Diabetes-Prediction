{
 "cells": [
  {
   "cell_type": "markdown",
   "id": "1237a7f6",
   "metadata": {},
   "source": [
    "### Context  \n",
    "_____________________________  \n",
    "\n",
    "Diabetes is one of the most frequent diseases worldwide and the number of diabetic patients are growing over the years. The main cause of diabetes remains unknown, yet scientists believe that both genetic factors and environmental lifestyle play a major role in diabetes.\n",
    "\n",
    "A few years ago research was done on a tribe in America which is called the Pima tribe (also known as the Pima Indians). In this tribe, it was found that the ladies are prone to diabetes very early. Several constraints were placed on the selection of these instances from a larger database. In particular, all patients were females at least 21 years old of Pima Indian heritage."
   ]
  },
  {
   "cell_type": "markdown",
   "id": "c88dc99b",
   "metadata": {},
   "source": [
    "### Objective  \n",
    "_______________________________  \n",
    "Here, we are analyzing different aspects of Diabetes in the Pima Indians tribe by doing Exploratory Data Analysis."
   ]
  },
  {
   "cell_type": "markdown",
   "id": "172b3eb9",
   "metadata": {},
   "source": [
    "### Data Dictionary  \n",
    "____________________________________  \n",
    "\n",
    "The dataset has the following information:\n",
    "\n",
    "1) Pregnancies: Number of times pregnant  \n",
    "2) Glucose: Plasma glucose concentration over 2 hours in an oral glucose tolerance test  \n",
    "3) BloodPressure: Diastolic blood pressure (mm Hg)  \n",
    "4) SkinThickness: Triceps skin fold thickness (mm)  \n",
    "5) Insulin: 2-Hour serum insulin (mu U/ml)  \n",
    "6) BMI: Body mass index (weight in kg/(height in m)^2)  \n",
    "7) DiabetesPedigreeFunction: A function which scores likelihood of diabetes based on family history.  \n",
    "8) Age: Age in years  \n",
    "9) Outcome : Class variable (0: person is not diabetic or 1: person is diabetic)"
   ]
  },
  {
   "cell_type": "markdown",
   "id": "a4682b72",
   "metadata": {},
   "source": [
    "### Import the necessary libraries"
   ]
  },
  {
   "cell_type": "code",
   "execution_count": 1,
   "id": "f092a1e0",
   "metadata": {},
   "outputs": [],
   "source": [
    "import numpy as np\n",
    "import pandas as pd\n",
    "\n",
    "import seaborn as sns\n",
    "import matplotlib.pyplot as plt\n",
    "%matplotlib inline"
   ]
  },
  {
   "cell_type": "code",
   "execution_count": 2,
   "id": "e679e7ca",
   "metadata": {},
   "outputs": [
    {
     "data": {
      "text/html": [
       "<div>\n",
       "<style scoped>\n",
       "    .dataframe tbody tr th:only-of-type {\n",
       "        vertical-align: middle;\n",
       "    }\n",
       "\n",
       "    .dataframe tbody tr th {\n",
       "        vertical-align: top;\n",
       "    }\n",
       "\n",
       "    .dataframe thead th {\n",
       "        text-align: right;\n",
       "    }\n",
       "</style>\n",
       "<table border=\"1\" class=\"dataframe\">\n",
       "  <thead>\n",
       "    <tr style=\"text-align: right;\">\n",
       "      <th></th>\n",
       "      <th>Pregnancies</th>\n",
       "      <th>Glucose</th>\n",
       "      <th>BloodPressure</th>\n",
       "      <th>SkinThickness</th>\n",
       "      <th>Insulin</th>\n",
       "      <th>BMI</th>\n",
       "      <th>DiabetesPedigreeFunction</th>\n",
       "      <th>Age</th>\n",
       "      <th>Outcome</th>\n",
       "    </tr>\n",
       "  </thead>\n",
       "  <tbody>\n",
       "    <tr>\n",
       "      <th>0</th>\n",
       "      <td>6</td>\n",
       "      <td>148</td>\n",
       "      <td>72</td>\n",
       "      <td>35</td>\n",
       "      <td>0</td>\n",
       "      <td>33.6</td>\n",
       "      <td>0.627</td>\n",
       "      <td>50</td>\n",
       "      <td>1</td>\n",
       "    </tr>\n",
       "    <tr>\n",
       "      <th>1</th>\n",
       "      <td>1</td>\n",
       "      <td>85</td>\n",
       "      <td>66</td>\n",
       "      <td>29</td>\n",
       "      <td>0</td>\n",
       "      <td>26.6</td>\n",
       "      <td>0.351</td>\n",
       "      <td>31</td>\n",
       "      <td>0</td>\n",
       "    </tr>\n",
       "    <tr>\n",
       "      <th>2</th>\n",
       "      <td>8</td>\n",
       "      <td>183</td>\n",
       "      <td>64</td>\n",
       "      <td>0</td>\n",
       "      <td>0</td>\n",
       "      <td>23.3</td>\n",
       "      <td>0.672</td>\n",
       "      <td>32</td>\n",
       "      <td>1</td>\n",
       "    </tr>\n",
       "    <tr>\n",
       "      <th>3</th>\n",
       "      <td>1</td>\n",
       "      <td>89</td>\n",
       "      <td>66</td>\n",
       "      <td>23</td>\n",
       "      <td>94</td>\n",
       "      <td>28.1</td>\n",
       "      <td>0.167</td>\n",
       "      <td>21</td>\n",
       "      <td>0</td>\n",
       "    </tr>\n",
       "    <tr>\n",
       "      <th>4</th>\n",
       "      <td>0</td>\n",
       "      <td>137</td>\n",
       "      <td>40</td>\n",
       "      <td>35</td>\n",
       "      <td>168</td>\n",
       "      <td>43.1</td>\n",
       "      <td>2.288</td>\n",
       "      <td>33</td>\n",
       "      <td>1</td>\n",
       "    </tr>\n",
       "  </tbody>\n",
       "</table>\n",
       "</div>"
      ],
      "text/plain": [
       "   Pregnancies  Glucose  BloodPressure  SkinThickness  Insulin   BMI  \\\n",
       "0            6      148             72             35        0  33.6   \n",
       "1            1       85             66             29        0  26.6   \n",
       "2            8      183             64              0        0  23.3   \n",
       "3            1       89             66             23       94  28.1   \n",
       "4            0      137             40             35      168  43.1   \n",
       "\n",
       "   DiabetesPedigreeFunction  Age  Outcome  \n",
       "0                     0.627   50        1  \n",
       "1                     0.351   31        0  \n",
       "2                     0.672   32        1  \n",
       "3                     0.167   21        0  \n",
       "4                     2.288   33        1  "
      ]
     },
     "execution_count": 2,
     "metadata": {},
     "output_type": "execute_result"
    }
   ],
   "source": [
    "# here pd.read_csv will read the CSV file and will create a datafram.  .head() will return top 5 records.\n",
    "\n",
    "dataset = pd.read_csv(\"diabetes.csv\")\n",
    "\n",
    "dataset.head()"
   ]
  },
  {
   "cell_type": "code",
   "execution_count": 4,
   "id": "a52700dd",
   "metadata": {},
   "outputs": [
    {
     "name": "stdout",
     "output_type": "stream",
     "text": [
      "The shape of the dataset is:  (768, 9)\n"
     ]
    }
   ],
   "source": [
    "print('The shape of the dataset is: ',dataset.shape)"
   ]
  },
  {
   "cell_type": "code",
   "execution_count": 5,
   "id": "dc01aa8a",
   "metadata": {},
   "outputs": [
    {
     "name": "stdout",
     "output_type": "stream",
     "text": [
      "<class 'pandas.core.frame.DataFrame'>\n",
      "RangeIndex: 768 entries, 0 to 767\n",
      "Data columns (total 9 columns):\n",
      " #   Column                    Non-Null Count  Dtype  \n",
      "---  ------                    --------------  -----  \n",
      " 0   Pregnancies               768 non-null    int64  \n",
      " 1   Glucose                   768 non-null    int64  \n",
      " 2   BloodPressure             768 non-null    int64  \n",
      " 3   SkinThickness             768 non-null    int64  \n",
      " 4   Insulin                   768 non-null    int64  \n",
      " 5   BMI                       768 non-null    float64\n",
      " 6   DiabetesPedigreeFunction  768 non-null    float64\n",
      " 7   Age                       768 non-null    int64  \n",
      " 8   Outcome                   768 non-null    int64  \n",
      "dtypes: float64(2), int64(7)\n",
      "memory usage: 54.1 KB\n"
     ]
    }
   ],
   "source": [
    "# Use info() function to get all the information about the dataset.\n",
    "\n",
    "dataset.info()"
   ]
  },
  {
   "cell_type": "markdown",
   "id": "1ae05f48",
   "metadata": {},
   "source": [
    "### Are there any missing values in the dataframe?"
   ]
  },
  {
   "cell_type": "code",
   "execution_count": 6,
   "id": "1bcfe040",
   "metadata": {},
   "outputs": [
    {
     "data": {
      "text/html": [
       "<div>\n",
       "<style scoped>\n",
       "    .dataframe tbody tr th:only-of-type {\n",
       "        vertical-align: middle;\n",
       "    }\n",
       "\n",
       "    .dataframe tbody tr th {\n",
       "        vertical-align: top;\n",
       "    }\n",
       "\n",
       "    .dataframe thead th {\n",
       "        text-align: right;\n",
       "    }\n",
       "</style>\n",
       "<table border=\"1\" class=\"dataframe\">\n",
       "  <thead>\n",
       "    <tr style=\"text-align: right;\">\n",
       "      <th></th>\n",
       "      <th>Total</th>\n",
       "      <th>Percent</th>\n",
       "    </tr>\n",
       "  </thead>\n",
       "  <tbody>\n",
       "    <tr>\n",
       "      <th>Pregnancies</th>\n",
       "      <td>0</td>\n",
       "      <td>0.0</td>\n",
       "    </tr>\n",
       "    <tr>\n",
       "      <th>Glucose</th>\n",
       "      <td>0</td>\n",
       "      <td>0.0</td>\n",
       "    </tr>\n",
       "    <tr>\n",
       "      <th>BloodPressure</th>\n",
       "      <td>0</td>\n",
       "      <td>0.0</td>\n",
       "    </tr>\n",
       "    <tr>\n",
       "      <th>SkinThickness</th>\n",
       "      <td>0</td>\n",
       "      <td>0.0</td>\n",
       "    </tr>\n",
       "    <tr>\n",
       "      <th>Insulin</th>\n",
       "      <td>0</td>\n",
       "      <td>0.0</td>\n",
       "    </tr>\n",
       "    <tr>\n",
       "      <th>BMI</th>\n",
       "      <td>0</td>\n",
       "      <td>0.0</td>\n",
       "    </tr>\n",
       "    <tr>\n",
       "      <th>DiabetesPedigreeFunction</th>\n",
       "      <td>0</td>\n",
       "      <td>0.0</td>\n",
       "    </tr>\n",
       "    <tr>\n",
       "      <th>Age</th>\n",
       "      <td>0</td>\n",
       "      <td>0.0</td>\n",
       "    </tr>\n",
       "    <tr>\n",
       "      <th>Outcome</th>\n",
       "      <td>0</td>\n",
       "      <td>0.0</td>\n",
       "    </tr>\n",
       "  </tbody>\n",
       "</table>\n",
       "</div>"
      ],
      "text/plain": [
       "                          Total  Percent\n",
       "Pregnancies                   0      0.0\n",
       "Glucose                       0      0.0\n",
       "BloodPressure                 0      0.0\n",
       "SkinThickness                 0      0.0\n",
       "Insulin                       0      0.0\n",
       "BMI                           0      0.0\n",
       "DiabetesPedigreeFunction      0      0.0\n",
       "Age                           0      0.0\n",
       "Outcome                       0      0.0"
      ]
     },
     "execution_count": 6,
     "metadata": {},
     "output_type": "execute_result"
    }
   ],
   "source": [
    "def missing_check(df):\n",
    "    total = df.isnull().sum().sort_values(ascending=False)   # total number of null values\n",
    "    percent = (df.isnull().sum()/df.isnull().count()).sort_values(ascending=False)  # percentage of values that are null\n",
    "    missing_data = pd.concat([total, percent], axis=1, keys=['Total', 'Percent'])  # putting the above two together\n",
    "    return missing_data # return the dataframe\n",
    "missing_check(dataset)\n"
   ]
  },
  {
   "cell_type": "markdown",
   "id": "65b58fb2",
   "metadata": {},
   "source": [
    "- We may come across datasets with incomplete data, this means that there may be some values missing from the dataset. If we were to use datasets with incomplete data, our results may be skewed or completely wrong. That is why we **always** have to check for missing data and handle it according to the questions we are trying to answer. We may be able to do our calculations without the missing data, or **we may have to filter out the incomplete rows or columns depending on the situation.**  \n",
    "\n",
    "- As we can see in the table above, there are no strictly missing values in this dataframe. However, **there is a lot of 0 values in features where it does not make sense to have 0 values, this may indicate that there were missing valus which were replaced with 0. Because of this, we will filter out the 0 values in the Glucose, BloodPressure, SkinThickness and BMI variables, since these are the only variables we can be absolutely certain that the value can not be 0.**"
   ]
  },
  {
   "cell_type": "code",
   "execution_count": 7,
   "id": "69f9f168",
   "metadata": {},
   "outputs": [],
   "source": [
    "# replacing 0 with nan values \n",
    "\n",
    "dataset['Glucose'].replace(0, np.nan, inplace=True)\n",
    "dataset['BloodPressure'].replace(0, np.nan, inplace=True)\n",
    "dataset['SkinThickness'].replace(0, np.nan, inplace=True)\n",
    "dataset['BMI'].replace(0, np.nan, inplace=True)"
   ]
  },
  {
   "cell_type": "code",
   "execution_count": 8,
   "id": "daf07078",
   "metadata": {},
   "outputs": [
    {
     "data": {
      "text/html": [
       "<div>\n",
       "<style scoped>\n",
       "    .dataframe tbody tr th:only-of-type {\n",
       "        vertical-align: middle;\n",
       "    }\n",
       "\n",
       "    .dataframe tbody tr th {\n",
       "        vertical-align: top;\n",
       "    }\n",
       "\n",
       "    .dataframe thead th {\n",
       "        text-align: right;\n",
       "    }\n",
       "</style>\n",
       "<table border=\"1\" class=\"dataframe\">\n",
       "  <thead>\n",
       "    <tr style=\"text-align: right;\">\n",
       "      <th></th>\n",
       "      <th>Total</th>\n",
       "      <th>Percent</th>\n",
       "    </tr>\n",
       "  </thead>\n",
       "  <tbody>\n",
       "    <tr>\n",
       "      <th>SkinThickness</th>\n",
       "      <td>227</td>\n",
       "      <td>0.295573</td>\n",
       "    </tr>\n",
       "    <tr>\n",
       "      <th>BloodPressure</th>\n",
       "      <td>35</td>\n",
       "      <td>0.045573</td>\n",
       "    </tr>\n",
       "    <tr>\n",
       "      <th>BMI</th>\n",
       "      <td>11</td>\n",
       "      <td>0.014323</td>\n",
       "    </tr>\n",
       "    <tr>\n",
       "      <th>Glucose</th>\n",
       "      <td>5</td>\n",
       "      <td>0.006510</td>\n",
       "    </tr>\n",
       "    <tr>\n",
       "      <th>Pregnancies</th>\n",
       "      <td>0</td>\n",
       "      <td>0.000000</td>\n",
       "    </tr>\n",
       "    <tr>\n",
       "      <th>Insulin</th>\n",
       "      <td>0</td>\n",
       "      <td>0.000000</td>\n",
       "    </tr>\n",
       "    <tr>\n",
       "      <th>DiabetesPedigreeFunction</th>\n",
       "      <td>0</td>\n",
       "      <td>0.000000</td>\n",
       "    </tr>\n",
       "    <tr>\n",
       "      <th>Age</th>\n",
       "      <td>0</td>\n",
       "      <td>0.000000</td>\n",
       "    </tr>\n",
       "    <tr>\n",
       "      <th>Outcome</th>\n",
       "      <td>0</td>\n",
       "      <td>0.000000</td>\n",
       "    </tr>\n",
       "  </tbody>\n",
       "</table>\n",
       "</div>"
      ],
      "text/plain": [
       "                          Total   Percent\n",
       "SkinThickness               227  0.295573\n",
       "BloodPressure                35  0.045573\n",
       "BMI                          11  0.014323\n",
       "Glucose                       5  0.006510\n",
       "Pregnancies                   0  0.000000\n",
       "Insulin                       0  0.000000\n",
       "DiabetesPedigreeFunction      0  0.000000\n",
       "Age                           0  0.000000\n",
       "Outcome                       0  0.000000"
      ]
     },
     "execution_count": 8,
     "metadata": {},
     "output_type": "execute_result"
    }
   ],
   "source": [
    "# now let's check how many null values are there\n",
    "\n",
    "def missing_check(df):\n",
    "    total = df.isnull().sum().sort_values(ascending=False)   # total number of null values\n",
    "    percent = (df.isnull().sum()/df.isnull().count()).sort_values(ascending=False)  # percentage of values that are null\n",
    "    missing_data = pd.concat([total, percent], axis=1, keys=['Total', 'Percent'])  # putting the above two together\n",
    "    return missing_data # return the dataframe\n",
    "missing_check(dataset)"
   ]
  },
  {
   "cell_type": "markdown",
   "id": "6b4a852b",
   "metadata": {},
   "source": [
    "- With the new considerations, we can observe that we have filtered out ~30% of our data. This will reduce the sample size, but will increase the accuracy of our conclusiions.  \n",
    "\n",
    "- Skin Thickness has 227, BP has 35, BMI has 11, GLucose has 5 missing values  "
   ]
  },
  {
   "cell_type": "markdown",
   "id": "65840e89",
   "metadata": {},
   "source": [
    "here we can see that percentage of missing values is very very less compare to whole dataset, it's not even 1% so we can simply drop the missing data"
   ]
  },
  {
   "cell_type": "code",
   "execution_count": 10,
   "id": "d51af772",
   "metadata": {},
   "outputs": [],
   "source": [
    "dataset = dataset.dropna()"
   ]
  },
  {
   "cell_type": "markdown",
   "id": "6c197b2d",
   "metadata": {},
   "source": [
    "### What does summary statistics of data represents?"
   ]
  },
  {
   "cell_type": "code",
   "execution_count": 11,
   "id": "8c10417d",
   "metadata": {},
   "outputs": [
    {
     "data": {
      "text/html": [
       "<div>\n",
       "<style scoped>\n",
       "    .dataframe tbody tr th:only-of-type {\n",
       "        vertical-align: middle;\n",
       "    }\n",
       "\n",
       "    .dataframe tbody tr th {\n",
       "        vertical-align: top;\n",
       "    }\n",
       "\n",
       "    .dataframe thead th {\n",
       "        text-align: right;\n",
       "    }\n",
       "</style>\n",
       "<table border=\"1\" class=\"dataframe\">\n",
       "  <thead>\n",
       "    <tr style=\"text-align: right;\">\n",
       "      <th></th>\n",
       "      <th>Pregnancies</th>\n",
       "      <th>Glucose</th>\n",
       "      <th>BloodPressure</th>\n",
       "      <th>SkinThickness</th>\n",
       "      <th>Insulin</th>\n",
       "      <th>BMI</th>\n",
       "      <th>DiabetesPedigreeFunction</th>\n",
       "      <th>Age</th>\n",
       "      <th>Outcome</th>\n",
       "    </tr>\n",
       "  </thead>\n",
       "  <tbody>\n",
       "    <tr>\n",
       "      <th>count</th>\n",
       "      <td>532.000000</td>\n",
       "      <td>532.000000</td>\n",
       "      <td>532.000000</td>\n",
       "      <td>532.000000</td>\n",
       "      <td>532.000000</td>\n",
       "      <td>532.000000</td>\n",
       "      <td>532.000000</td>\n",
       "      <td>532.000000</td>\n",
       "      <td>532.000000</td>\n",
       "    </tr>\n",
       "    <tr>\n",
       "      <th>mean</th>\n",
       "      <td>3.516917</td>\n",
       "      <td>121.030075</td>\n",
       "      <td>71.505639</td>\n",
       "      <td>29.182331</td>\n",
       "      <td>114.988722</td>\n",
       "      <td>32.890226</td>\n",
       "      <td>0.502966</td>\n",
       "      <td>31.614662</td>\n",
       "      <td>0.332707</td>\n",
       "    </tr>\n",
       "    <tr>\n",
       "      <th>std</th>\n",
       "      <td>3.312036</td>\n",
       "      <td>30.999226</td>\n",
       "      <td>12.310253</td>\n",
       "      <td>10.523878</td>\n",
       "      <td>123.007555</td>\n",
       "      <td>6.881109</td>\n",
       "      <td>0.344546</td>\n",
       "      <td>10.761584</td>\n",
       "      <td>0.471626</td>\n",
       "    </tr>\n",
       "    <tr>\n",
       "      <th>min</th>\n",
       "      <td>0.000000</td>\n",
       "      <td>56.000000</td>\n",
       "      <td>24.000000</td>\n",
       "      <td>7.000000</td>\n",
       "      <td>0.000000</td>\n",
       "      <td>18.200000</td>\n",
       "      <td>0.085000</td>\n",
       "      <td>21.000000</td>\n",
       "      <td>0.000000</td>\n",
       "    </tr>\n",
       "    <tr>\n",
       "      <th>25%</th>\n",
       "      <td>1.000000</td>\n",
       "      <td>98.750000</td>\n",
       "      <td>64.000000</td>\n",
       "      <td>22.000000</td>\n",
       "      <td>0.000000</td>\n",
       "      <td>27.875000</td>\n",
       "      <td>0.258750</td>\n",
       "      <td>23.000000</td>\n",
       "      <td>0.000000</td>\n",
       "    </tr>\n",
       "    <tr>\n",
       "      <th>50%</th>\n",
       "      <td>2.000000</td>\n",
       "      <td>115.000000</td>\n",
       "      <td>72.000000</td>\n",
       "      <td>29.000000</td>\n",
       "      <td>91.500000</td>\n",
       "      <td>32.800000</td>\n",
       "      <td>0.416000</td>\n",
       "      <td>28.000000</td>\n",
       "      <td>0.000000</td>\n",
       "    </tr>\n",
       "    <tr>\n",
       "      <th>75%</th>\n",
       "      <td>5.000000</td>\n",
       "      <td>141.250000</td>\n",
       "      <td>80.000000</td>\n",
       "      <td>36.000000</td>\n",
       "      <td>165.250000</td>\n",
       "      <td>36.900000</td>\n",
       "      <td>0.658500</td>\n",
       "      <td>38.000000</td>\n",
       "      <td>1.000000</td>\n",
       "    </tr>\n",
       "    <tr>\n",
       "      <th>max</th>\n",
       "      <td>17.000000</td>\n",
       "      <td>199.000000</td>\n",
       "      <td>110.000000</td>\n",
       "      <td>99.000000</td>\n",
       "      <td>846.000000</td>\n",
       "      <td>67.100000</td>\n",
       "      <td>2.420000</td>\n",
       "      <td>81.000000</td>\n",
       "      <td>1.000000</td>\n",
       "    </tr>\n",
       "  </tbody>\n",
       "</table>\n",
       "</div>"
      ],
      "text/plain": [
       "       Pregnancies     Glucose  BloodPressure  SkinThickness     Insulin  \\\n",
       "count   532.000000  532.000000     532.000000     532.000000  532.000000   \n",
       "mean      3.516917  121.030075      71.505639      29.182331  114.988722   \n",
       "std       3.312036   30.999226      12.310253      10.523878  123.007555   \n",
       "min       0.000000   56.000000      24.000000       7.000000    0.000000   \n",
       "25%       1.000000   98.750000      64.000000      22.000000    0.000000   \n",
       "50%       2.000000  115.000000      72.000000      29.000000   91.500000   \n",
       "75%       5.000000  141.250000      80.000000      36.000000  165.250000   \n",
       "max      17.000000  199.000000     110.000000      99.000000  846.000000   \n",
       "\n",
       "              BMI  DiabetesPedigreeFunction         Age     Outcome  \n",
       "count  532.000000                532.000000  532.000000  532.000000  \n",
       "mean    32.890226                  0.502966   31.614662    0.332707  \n",
       "std      6.881109                  0.344546   10.761584    0.471626  \n",
       "min     18.200000                  0.085000   21.000000    0.000000  \n",
       "25%     27.875000                  0.258750   23.000000    0.000000  \n",
       "50%     32.800000                  0.416000   28.000000    0.000000  \n",
       "75%     36.900000                  0.658500   38.000000    1.000000  \n",
       "max     67.100000                  2.420000   81.000000    1.000000  "
      ]
     },
     "execution_count": 11,
     "metadata": {},
     "output_type": "execute_result"
    }
   ],
   "source": [
    "dataset.describe()"
   ]
  },
  {
   "cell_type": "markdown",
   "id": "ac98138e",
   "metadata": {},
   "source": [
    "- Summary statistics sumarize and provide information about our sample data, they help us measure the location of our data, trends in our data, spread, skewness, etc. THey help us paint an initial picture of our data so we can decide how to analyze it moving forward.\n",
    "- For example, if we look at the 'Pregnancies' column in the table above we can learn a couple of things:\n",
    "    - Count:\n",
    "        - We are analyzing the data of 532 individuals, since the count returns the amount of cells in the pregnancy column,regardless of their value.\n",
    "    - Mean:\n",
    "        - The average number of pregnancies in our sample is ~3.5 (we can round up to 4)\n",
    "    - STD(standard deviation):\n",
    "        - The STD in our dataset is ~3.31, which means that 68% (roughly two thirds) of the individuals in our dataset had between 0 and 7 pregnancies.\n",
    "    - Min:\n",
    "        - The lowest amount of pregnancies for a given individual in our dataset is 0(no pregnancies). Note that this value can be an outlier and it is not representative of the whole dataset.\n",
    "    - 25%:\n",
    "        - 75% of the individuals in our dataset had at least 1 pregnancy\n",
    "    - 50%:\n",
    "        - 50% of the individuals in our dataset had at least 2 pregnancies\n",
    "    - 75%:\n",
    "        - Only 25% of the individuals in our dataset had more than 5 pregnancies\n",
    "    - Max:\n",
    "        - The individual with the highest amount of pregnancies in our sample had 17 pregnancies. Note that this value can be an outlier and it is not representative of the whole dataset."
   ]
  },
  {
   "cell_type": "markdown",
   "id": "59371647",
   "metadata": {},
   "source": [
    "### distribution plot for the variable 'BloodPressure"
   ]
  },
  {
   "cell_type": "code",
   "execution_count": 12,
   "id": "9e919ce8",
   "metadata": {},
   "outputs": [
    {
     "data": {
      "image/png": "[encoded data removed]",
      "text/plain": [
       "<Figure size 500x500 with 1 Axes>"
      ]
     },
     "metadata": {},
     "output_type": "display_data"
    }
   ],
   "source": [
    "sns.displot(dataset['BloodPressure'], kind='kde')\n",
    "plt.show()"
   ]
  },
  {
   "cell_type": "markdown",
   "id": "d4006cc2",
   "metadata": {},
   "source": [
    "- The distribution plot above, tells us that most of the individuals in our dataset have a bloodpressure of ~70. We can also observe taht our data folllows a nearly normal distribution with a slight left skew."
   ]
  },
  {
   "cell_type": "markdown",
   "id": "44e96b34",
   "metadata": {},
   "source": [
    "### What is the 'BMI' for the person having the highest 'Glucose'?"
   ]
  },
  {
   "cell_type": "code",
   "execution_count": 22,
   "id": "73652cac",
   "metadata": {},
   "outputs": [
    {
     "data": {
      "text/plain": [
       "661    42.9\n",
       "Name: BMI, dtype: float64"
      ]
     },
     "execution_count": 22,
     "metadata": {},
     "output_type": "execute_result"
    }
   ],
   "source": [
    "dataset[dataset['Glucose']==dataset['Glucose'].max()]['BMI']\n"
   ]
  },
  {
   "cell_type": "markdown",
   "id": "18444723",
   "metadata": {},
   "source": [
    "- he BMI for the person with the highest Glucose (661) is ***42.9***"
   ]
  },
  {
   "cell_type": "markdown",
   "id": "4e8df3a8",
   "metadata": {},
   "source": [
    "### What is the mean of the variable 'BMI'?\n",
    "### What is the median of the variable 'BMI'?\n",
    "### What is the mode of the variable 'BMI'?\n",
    "### Are the three measures of central tendency equal?"
   ]
  },
  {
   "cell_type": "code",
   "execution_count": 23,
   "id": "4f764b3a",
   "metadata": {},
   "outputs": [
    {
     "name": "stdout",
     "output_type": "stream",
     "text": [
      "The Mean for the BMI is: 32.89022556390977\n",
      "The Median for the BMI is: 32.8\n",
      "The Mode for the BMI is: 32.0\n"
     ]
    }
   ],
   "source": [
    "m1 = dataset['BMI'].mean()  #Mean\n",
    "print('The Mean for the BMI is:', m1)\n",
    "m2 = dataset['BMI'].median()  #Median\n",
    "print('The Median for the BMI is:', m2)\n",
    "m3 = dataset['BMI'].mode()[0]  #Mode\n",
    "print('The Mode for the BMI is:', m3)"
   ]
  },
  {
   "cell_type": "markdown",
   "id": "b1e500fe",
   "metadata": {},
   "source": [
    "### How many women's 'Glucose' level is above the mean level of 'Glucose'?"
   ]
  },
  {
   "cell_type": "code",
   "execution_count": 24,
   "id": "3aed0636",
   "metadata": {},
   "outputs": [
    {
     "name": "stdout",
     "output_type": "stream",
     "text": [
      "There are 230 individuals in this dataset with a Glucose level above the Mean glucose level of 121.03007518796993\n"
     ]
    }
   ],
   "source": [
    "print('There are',dataset[dataset['Glucose']>dataset['Glucose'].mean()].shape[0], 'individuals in this dataset with a Glucose level above the Mean glucose level of', dataset['Glucose'].mean())\n"
   ]
  },
  {
   "cell_type": "markdown",
   "id": "44d57d5d",
   "metadata": {},
   "source": [
    "### Plot the scatterplot between 'Glucose' and 'Insulin'. Write your observations from the plot"
   ]
  },
  {
   "cell_type": "code",
   "execution_count": 26,
   "id": "8303c3de",
   "metadata": {},
   "outputs": [
    {
     "data": {
      "image/png": "[encoded data removed]",
      "text/plain": [
       "<Figure size 640x480 with 1 Axes>"
      ]
     },
     "metadata": {},
     "output_type": "display_data"
    }
   ],
   "source": [
    "sns.scatterplot(x='Glucose',y='Insulin',data=dataset[dataset['Glucose']!=0], hue='Outcome', alpha=0.5)\n",
    "plt.show()"
   ]
  },
  {
   "cell_type": "markdown",
   "id": "70de746f",
   "metadata": {},
   "source": [
    "- We can not draw meaningful information from the plot above with the current variables.\n",
    "- If we also took into account a ***Time with Diabetes*** variable and the ***Age*** variable we would be able to reduce the dispersion of the data and draw much more meaningful information, since those two (variables) are also factors in the 'Insulin to Glucose ratio'."
   ]
  },
  {
   "cell_type": "markdown",
   "id": "642ea25a",
   "metadata": {},
   "source": [
    "### Plot the boxplot for the 'Age' variable. Are there outliers?"
   ]
  },
  {
   "cell_type": "code",
   "execution_count": 27,
   "id": "14f9ae17",
   "metadata": {},
   "outputs": [
    {
     "data": {
      "image/png": "[encoded data removed]",
      "text/plain": [
       "<Figure size 640x480 with 1 Axes>"
      ]
     },
     "metadata": {},
     "output_type": "display_data"
    },
    {
     "name": "stdout",
     "output_type": "stream",
     "text": [
      "There are 9 'Age' outliers in the dataset.\n"
     ]
    }
   ],
   "source": [
    "plt.boxplot(dataset['Age'])\n",
    "\n",
    "plt.title('Boxplot of Age')\n",
    "plt.ylabel('Age')\n",
    "plt.show()\n",
    "\n",
    "Q1 = dataset['Age'].quantile(0.25)\n",
    "Q3 = dataset['Age'].quantile(0.75)\n",
    "IQR = Q3 - Q1\n",
    "ageOutliers=((dataset['Age'] < (Q1 - 1.5 * IQR)) | (dataset['Age'] > (Q3 + 1.5 * IQR))).sum()\n",
    "\n",
    "print('There are',ageOutliers,'\\'Age\\' outliers in the dataset.')"
   ]
  },
  {
   "cell_type": "markdown",
   "id": "7afe2eab",
   "metadata": {},
   "source": [
    "### Plot histograms for variable Age to understand the number of women in different Age groups given that they have diabetes or not."
   ]
  },
  {
   "cell_type": "code",
   "execution_count": 28,
   "id": "071a3a68",
   "metadata": {},
   "outputs": [
    {
     "data": {
      "image/png": "[encoded data removed]",
      "text/plain": [
       "<Figure size 1600x500 with 3 Axes>"
      ]
     },
     "metadata": {},
     "output_type": "display_data"
    }
   ],
   "source": [
    "plt.figure(figsize=(16, 5))\n",
    "\n",
    "plt.subplot(131)\n",
    "\n",
    "plt.hist(dataset[dataset['Outcome']==1]['Age'], bins = 5, color='r')\n",
    "plt.title('Distribution of Age for Women who has Diabetes')\n",
    "plt.xlabel('Age')\n",
    "plt.ylabel('Frequency')\n",
    "\n",
    "plt.subplot(132)\n",
    "\n",
    "plt.hist(dataset[dataset['Outcome']==0]['Age'], bins = 5, color='g')\n",
    "plt.title('Distribution of Age for Women who do not have Diabetes')\n",
    "plt.xlabel('Age')\n",
    "plt.ylabel('Frequency')\n",
    "\n",
    "plt.subplot(133)\n",
    "\n",
    "plt.hist(dataset['Age'], bins = 5)\n",
    "plt.title('Distribution of Age for all Women')\n",
    "plt.xlabel('Age')\n",
    "plt.ylabel('Frequency')\n",
    "\n",
    "plt.tight_layout(w_pad=5)"
   ]
  },
  {
   "cell_type": "markdown",
   "id": "9a692df3",
   "metadata": {},
   "source": [
    "- Distribution of Age for **Women who has Diabetes**\n",
    "    - We can observe that Diabetes is present in every age group in our sample except for the 70-80 group which has 0 cases of Diabetes in our sample. We can infere that this is because individuals with diabetes in our population do not reach this age.\n",
    "- Distribution of Age for **Women who do not have Diabetes**\n",
    "    - We can see that there is a sharp drop in frequency from the 20-30 group to the rest of the Age groups, this may suggest that individuals in our population develop Diabetes in their 20s.\n",
    "- Distribution of Age for **all Women**\n",
    "    - This last histogram shows that the frequency of age has a sharp decline from the 20-30 Age group onwards, since the green histogram shows a similar distribution we can speculate that there is a correlation between Diabetes and Mortality in our population, but we need more data to prove this."
   ]
  },
  {
   "cell_type": "markdown",
   "id": "0661e176",
   "metadata": {},
   "source": [
    "### Find and visualize the the correlation matrix. "
   ]
  },
  {
   "cell_type": "code",
   "execution_count": 30,
   "id": "7810e968",
   "metadata": {},
   "outputs": [
    {
     "data": {
      "text/html": [
       "<div>\n",
       "<style scoped>\n",
       "    .dataframe tbody tr th:only-of-type {\n",
       "        vertical-align: middle;\n",
       "    }\n",
       "\n",
       "    .dataframe tbody tr th {\n",
       "        vertical-align: top;\n",
       "    }\n",
       "\n",
       "    .dataframe thead th {\n",
       "        text-align: right;\n",
       "    }\n",
       "</style>\n",
       "<table border=\"1\" class=\"dataframe\">\n",
       "  <thead>\n",
       "    <tr style=\"text-align: right;\">\n",
       "      <th></th>\n",
       "      <th>Pregnancies</th>\n",
       "      <th>Glucose</th>\n",
       "      <th>BloodPressure</th>\n",
       "      <th>SkinThickness</th>\n",
       "      <th>Insulin</th>\n",
       "      <th>BMI</th>\n",
       "      <th>DiabetesPedigreeFunction</th>\n",
       "      <th>Age</th>\n",
       "      <th>Outcome</th>\n",
       "    </tr>\n",
       "  </thead>\n",
       "  <tbody>\n",
       "    <tr>\n",
       "      <th>Pregnancies</th>\n",
       "      <td>1.000000</td>\n",
       "      <td>0.125330</td>\n",
       "      <td>0.204663</td>\n",
       "      <td>0.095085</td>\n",
       "      <td>-0.006568</td>\n",
       "      <td>0.008576</td>\n",
       "      <td>0.007435</td>\n",
       "      <td>0.640747</td>\n",
       "      <td>0.252586</td>\n",
       "    </tr>\n",
       "    <tr>\n",
       "      <th>Glucose</th>\n",
       "      <td>0.125330</td>\n",
       "      <td>1.000000</td>\n",
       "      <td>0.219178</td>\n",
       "      <td>0.226590</td>\n",
       "      <td>0.459905</td>\n",
       "      <td>0.247079</td>\n",
       "      <td>0.165817</td>\n",
       "      <td>0.278907</td>\n",
       "      <td>0.503614</td>\n",
       "    </tr>\n",
       "    <tr>\n",
       "      <th>BloodPressure</th>\n",
       "      <td>0.204663</td>\n",
       "      <td>0.219178</td>\n",
       "      <td>1.000000</td>\n",
       "      <td>0.226072</td>\n",
       "      <td>0.007052</td>\n",
       "      <td>0.307357</td>\n",
       "      <td>0.008047</td>\n",
       "      <td>0.346939</td>\n",
       "      <td>0.183432</td>\n",
       "    </tr>\n",
       "    <tr>\n",
       "      <th>SkinThickness</th>\n",
       "      <td>0.095085</td>\n",
       "      <td>0.226590</td>\n",
       "      <td>0.226072</td>\n",
       "      <td>1.000000</td>\n",
       "      <td>0.126240</td>\n",
       "      <td>0.647422</td>\n",
       "      <td>0.118636</td>\n",
       "      <td>0.161336</td>\n",
       "      <td>0.254874</td>\n",
       "    </tr>\n",
       "    <tr>\n",
       "      <th>Insulin</th>\n",
       "      <td>-0.006568</td>\n",
       "      <td>0.459905</td>\n",
       "      <td>0.007052</td>\n",
       "      <td>0.126240</td>\n",
       "      <td>1.000000</td>\n",
       "      <td>0.191168</td>\n",
       "      <td>0.151531</td>\n",
       "      <td>0.081126</td>\n",
       "      <td>0.212204</td>\n",
       "    </tr>\n",
       "    <tr>\n",
       "      <th>BMI</th>\n",
       "      <td>0.008576</td>\n",
       "      <td>0.247079</td>\n",
       "      <td>0.307357</td>\n",
       "      <td>0.647422</td>\n",
       "      <td>0.191168</td>\n",
       "      <td>1.000000</td>\n",
       "      <td>0.151107</td>\n",
       "      <td>0.073438</td>\n",
       "      <td>0.300901</td>\n",
       "    </tr>\n",
       "    <tr>\n",
       "      <th>DiabetesPedigreeFunction</th>\n",
       "      <td>0.007435</td>\n",
       "      <td>0.165817</td>\n",
       "      <td>0.008047</td>\n",
       "      <td>0.118636</td>\n",
       "      <td>0.151531</td>\n",
       "      <td>0.151107</td>\n",
       "      <td>1.000000</td>\n",
       "      <td>0.071654</td>\n",
       "      <td>0.233074</td>\n",
       "    </tr>\n",
       "    <tr>\n",
       "      <th>Age</th>\n",
       "      <td>0.640747</td>\n",
       "      <td>0.278907</td>\n",
       "      <td>0.346939</td>\n",
       "      <td>0.161336</td>\n",
       "      <td>0.081126</td>\n",
       "      <td>0.073438</td>\n",
       "      <td>0.071654</td>\n",
       "      <td>1.000000</td>\n",
       "      <td>0.315097</td>\n",
       "    </tr>\n",
       "    <tr>\n",
       "      <th>Outcome</th>\n",
       "      <td>0.252586</td>\n",
       "      <td>0.503614</td>\n",
       "      <td>0.183432</td>\n",
       "      <td>0.254874</td>\n",
       "      <td>0.212204</td>\n",
       "      <td>0.300901</td>\n",
       "      <td>0.233074</td>\n",
       "      <td>0.315097</td>\n",
       "      <td>1.000000</td>\n",
       "    </tr>\n",
       "  </tbody>\n",
       "</table>\n",
       "</div>"
      ],
      "text/plain": [
       "                          Pregnancies   Glucose  BloodPressure  SkinThickness  \\\n",
       "Pregnancies                  1.000000  0.125330       0.204663       0.095085   \n",
       "Glucose                      0.125330  1.000000       0.219178       0.226590   \n",
       "BloodPressure                0.204663  0.219178       1.000000       0.226072   \n",
       "SkinThickness                0.095085  0.226590       0.226072       1.000000   \n",
       "Insulin                     -0.006568  0.459905       0.007052       0.126240   \n",
       "BMI                          0.008576  0.247079       0.307357       0.647422   \n",
       "DiabetesPedigreeFunction     0.007435  0.165817       0.008047       0.118636   \n",
       "Age                          0.640747  0.278907       0.346939       0.161336   \n",
       "Outcome                      0.252586  0.503614       0.183432       0.254874   \n",
       "\n",
       "                           Insulin       BMI  DiabetesPedigreeFunction  \\\n",
       "Pregnancies              -0.006568  0.008576                  0.007435   \n",
       "Glucose                   0.459905  0.247079                  0.165817   \n",
       "BloodPressure             0.007052  0.307357                  0.008047   \n",
       "SkinThickness             0.126240  0.647422                  0.118636   \n",
       "Insulin                   1.000000  0.191168                  0.151531   \n",
       "BMI                       0.191168  1.000000                  0.151107   \n",
       "DiabetesPedigreeFunction  0.151531  0.151107                  1.000000   \n",
       "Age                       0.081126  0.073438                  0.071654   \n",
       "Outcome                   0.212204  0.300901                  0.233074   \n",
       "\n",
       "                               Age   Outcome  \n",
       "Pregnancies               0.640747  0.252586  \n",
       "Glucose                   0.278907  0.503614  \n",
       "BloodPressure             0.346939  0.183432  \n",
       "SkinThickness             0.161336  0.254874  \n",
       "Insulin                   0.081126  0.212204  \n",
       "BMI                       0.073438  0.300901  \n",
       "DiabetesPedigreeFunction  0.071654  0.233074  \n",
       "Age                       1.000000  0.315097  \n",
       "Outcome                   0.315097  1.000000  "
      ]
     },
     "execution_count": 30,
     "metadata": {},
     "output_type": "execute_result"
    }
   ],
   "source": [
    "corr_matrix = dataset.corr()\n",
    "\n",
    "corr_matrix"
   ]
  },
  {
   "cell_type": "code",
   "execution_count": 31,
   "id": "a20ec4af",
   "metadata": {},
   "outputs": [
    {
     "data": {
      "image/png": "[encoded data removed]",
      "text/plain": [
       "<Figure size 900x800 with 2 Axes>"
      ]
     },
     "metadata": {},
     "output_type": "display_data"
    }
   ],
   "source": [
    "plt.figure(figsize=(9,8))\n",
    "sns.heatmap(corr_matrix, annot = True)\n",
    "\n",
    "# display the plot\n",
    "plt.show()"
   ]
  },
  {
   "cell_type": "markdown",
   "id": "7966f5be",
   "metadata": {},
   "source": [
    "- We observe a **high correlation between SkinThickness and BMI**, this is to be expected.\n",
    "- We observe a **high correlation between Pregnancies and Age**, this may sugest that individuals have more pregancies the older they get.\n",
    "- We observe **medium correlation between Glucose and Insulin**, this is to be expected.\n",
    "- We observe **medium correlation between BloodPressure and Age**, this may sugest an increase in blood pressure the older the individuals in our sample get.\n",
    "- We observe **medium correlation between BloodPressure and BMI**, this suggests that an increase in BMI may result in an increase of BloodPressure, or viceversa.\n",
    "- The rest of the variables have little to no correlation, hence, no more meaningful information can be extracted from this heatmap."
   ]
  },
  {
   "cell_type": "markdown",
   "id": "6f72748e",
   "metadata": {},
   "source": [
    "##  Model Building"
   ]
  },
  {
   "cell_type": "markdown",
   "id": "21195e4d",
   "metadata": {},
   "source": [
    "###  Now let's prepare the independent and dependent feature and store in the variable X and y"
   ]
  },
  {
   "cell_type": "code",
   "execution_count": 47,
   "id": "275c04cc",
   "metadata": {},
   "outputs": [],
   "source": [
    "## Independent and Dependent features\n",
    "\n",
    "# separating the data and labels. here we are dropping OUTCOME column as it is dependent featue and remaining column is as it is\n",
    "# and storing it in X.  axis = 1 means drop entire column\n",
    "X = dataset.drop(columns = 'Outcome', axis=1)\n",
    "\n",
    "# dependent feature is only one so we are selecting only that column and store it in y\n",
    "y = dataset['Outcome']"
   ]
  },
  {
   "cell_type": "code",
   "execution_count": 48,
   "id": "fdf41e8a",
   "metadata": {},
   "outputs": [
    {
     "data": {
      "text/html": [
       "<div>\n",
       "<style scoped>\n",
       "    .dataframe tbody tr th:only-of-type {\n",
       "        vertical-align: middle;\n",
       "    }\n",
       "\n",
       "    .dataframe tbody tr th {\n",
       "        vertical-align: top;\n",
       "    }\n",
       "\n",
       "    .dataframe thead th {\n",
       "        text-align: right;\n",
       "    }\n",
       "</style>\n",
       "<table border=\"1\" class=\"dataframe\">\n",
       "  <thead>\n",
       "    <tr style=\"text-align: right;\">\n",
       "      <th></th>\n",
       "      <th>Pregnancies</th>\n",
       "      <th>Glucose</th>\n",
       "      <th>BloodPressure</th>\n",
       "      <th>SkinThickness</th>\n",
       "      <th>Insulin</th>\n",
       "      <th>BMI</th>\n",
       "      <th>DiabetesPedigreeFunction</th>\n",
       "      <th>Age</th>\n",
       "    </tr>\n",
       "  </thead>\n",
       "  <tbody>\n",
       "    <tr>\n",
       "      <th>0</th>\n",
       "      <td>6</td>\n",
       "      <td>148.0</td>\n",
       "      <td>72.0</td>\n",
       "      <td>35.0</td>\n",
       "      <td>0</td>\n",
       "      <td>33.6</td>\n",
       "      <td>0.627</td>\n",
       "      <td>50</td>\n",
       "    </tr>\n",
       "    <tr>\n",
       "      <th>1</th>\n",
       "      <td>1</td>\n",
       "      <td>85.0</td>\n",
       "      <td>66.0</td>\n",
       "      <td>29.0</td>\n",
       "      <td>0</td>\n",
       "      <td>26.6</td>\n",
       "      <td>0.351</td>\n",
       "      <td>31</td>\n",
       "    </tr>\n",
       "    <tr>\n",
       "      <th>3</th>\n",
       "      <td>1</td>\n",
       "      <td>89.0</td>\n",
       "      <td>66.0</td>\n",
       "      <td>23.0</td>\n",
       "      <td>94</td>\n",
       "      <td>28.1</td>\n",
       "      <td>0.167</td>\n",
       "      <td>21</td>\n",
       "    </tr>\n",
       "    <tr>\n",
       "      <th>4</th>\n",
       "      <td>0</td>\n",
       "      <td>137.0</td>\n",
       "      <td>40.0</td>\n",
       "      <td>35.0</td>\n",
       "      <td>168</td>\n",
       "      <td>43.1</td>\n",
       "      <td>2.288</td>\n",
       "      <td>33</td>\n",
       "    </tr>\n",
       "    <tr>\n",
       "      <th>6</th>\n",
       "      <td>3</td>\n",
       "      <td>78.0</td>\n",
       "      <td>50.0</td>\n",
       "      <td>32.0</td>\n",
       "      <td>88</td>\n",
       "      <td>31.0</td>\n",
       "      <td>0.248</td>\n",
       "      <td>26</td>\n",
       "    </tr>\n",
       "  </tbody>\n",
       "</table>\n",
       "</div>"
      ],
      "text/plain": [
       "   Pregnancies  Glucose  BloodPressure  SkinThickness  Insulin   BMI  \\\n",
       "0            6    148.0           72.0           35.0        0  33.6   \n",
       "1            1     85.0           66.0           29.0        0  26.6   \n",
       "3            1     89.0           66.0           23.0       94  28.1   \n",
       "4            0    137.0           40.0           35.0      168  43.1   \n",
       "6            3     78.0           50.0           32.0       88  31.0   \n",
       "\n",
       "   DiabetesPedigreeFunction  Age  \n",
       "0                     0.627   50  \n",
       "1                     0.351   31  \n",
       "3                     0.167   21  \n",
       "4                     2.288   33  \n",
       "6                     0.248   26  "
      ]
     },
     "execution_count": 48,
     "metadata": {},
     "output_type": "execute_result"
    }
   ],
   "source": [
    "# all independent features\n",
    "X.head()"
   ]
  },
  {
   "cell_type": "code",
   "execution_count": 49,
   "id": "b21d8045",
   "metadata": {},
   "outputs": [
    {
     "data": {
      "text/plain": [
       "0      1\n",
       "1      0\n",
       "3      0\n",
       "4      1\n",
       "6      1\n",
       "      ..\n",
       "761    1\n",
       "763    0\n",
       "764    0\n",
       "765    0\n",
       "767    0\n",
       "Name: Outcome, Length: 532, dtype: int64"
      ]
     },
     "execution_count": 49,
     "metadata": {},
     "output_type": "execute_result"
    }
   ],
   "source": [
    "# dependent feature\n",
    "y"
   ]
  },
  {
   "cell_type": "markdown",
   "id": "0113c17e",
   "metadata": {},
   "source": [
    "### Train Test Split \n",
    "\n",
    "Q) what is Train Test Split??\n",
    "It's a process to split your data into Training Data and Testing Data. Training data is, as the name suggests, used to train your model. Test data is the unknown data that the model hasn’t seen during the training"
   ]
  },
  {
   "cell_type": "code",
   "execution_count": 50,
   "id": "2438b7a9",
   "metadata": {},
   "outputs": [],
   "source": [
    "##Train Test Split\n",
    "from sklearn.model_selection import train_test_split\n",
    "X_train,X_test,y_train,y_test=train_test_split(X,y,test_size=0.3,random_state=42)"
   ]
  },
  {
   "cell_type": "markdown",
   "id": "ace8bbaf",
   "metadata": {},
   "source": [
    "**sklearn.model_selection** contains a **train_test_split() function** that is used to split your data in training and test sets.  \n",
    "\n",
    "**test_size = 0.3** which indicates that **30% of our data is for testing** and remaining 70% is for training, w can change that as per our need\n",
    "\n",
    "here we created Test data and training data for both Independent and Dependent feature means X and y"
   ]
  },
  {
   "cell_type": "markdown",
   "id": "67d60e00",
   "metadata": {},
   "source": [
    "### Let's build our model, I'm using Logistic regression Algortihm because it is binary classification problem"
   ]
  },
  {
   "cell_type": "code",
   "execution_count": 51,
   "id": "970d6d48",
   "metadata": {},
   "outputs": [],
   "source": [
    "# we have to import model from sklearn.linear_model\n",
    "from sklearn.linear_model import LogisticRegression\n",
    "\n",
    "#creating an object if the model\n",
    "model = LogisticRegression()"
   ]
  },
  {
   "cell_type": "code",
   "execution_count": 52,
   "id": "dc5a721f",
   "metadata": {},
   "outputs": [
    {
     "name": "stderr",
     "output_type": "stream",
     "text": [
      "C:\\ProgramData\\Anaconda3\\lib\\site-packages\\sklearn\\linear_model\\_logistic.py:814: ConvergenceWarning: lbfgs failed to converge (status=1):\n",
      "STOP: TOTAL NO. of ITERATIONS REACHED LIMIT.\n",
      "\n",
      "Increase the number of iterations (max_iter) or scale the data as shown in:\n",
      "    https://scikit-learn.org/stable/modules/preprocessing.html\n",
      "Please also refer to the documentation for alternative solver options:\n",
      "    https://scikit-learn.org/stable/modules/linear_model.html#logistic-regression\n",
      "  n_iter_i = _check_optimize_result(\n"
     ]
    },
    {
     "data": {
      "text/plain": [
       "LogisticRegression()"
      ]
     },
     "execution_count": 52,
     "metadata": {},
     "output_type": "execute_result"
    }
   ],
   "source": [
    "# now we'll train our model using object name.fit and pass our training data\n",
    "\n",
    "model.fit(X_train, y_train)"
   ]
  },
  {
   "cell_type": "code",
   "execution_count": 54,
   "id": "0ab6c98b",
   "metadata": {},
   "outputs": [
    {
     "name": "stdout",
     "output_type": "stream",
     "text": [
      "Accuracy score in training data =  0.782258064516129\n"
     ]
    }
   ],
   "source": [
    "# accuracy score on the training data. used to check the accuracy of the model\n",
    "\n",
    "from sklearn.metrics import accuracy_score\n",
    "\n",
    "# model.predict() is used to make prediction.\n",
    "X_train_prediction = model.predict(X_train)\n",
    "\n",
    "\n",
    "training_data_accuracy = accuracy_score(X_train_prediction, y_train)\n",
    " \n",
    "print('Accuracy score in training data = ' ,training_data_accuracy)"
   ]
  },
  {
   "cell_type": "code",
   "execution_count": 55,
   "id": "d23aed66",
   "metadata": {},
   "outputs": [
    {
     "name": "stdout",
     "output_type": "stream",
     "text": [
      "Accuracy score in test data =  0.74375\n"
     ]
    }
   ],
   "source": [
    "# accuracy score on the test data \n",
    "\n",
    "X_test_prediction = model.predict(X_test)\n",
    "test_data_accuracy = accuracy_score(X_test_prediction, y_test)\n",
    "\n",
    "print('Accuracy score in test data = ' ,test_data_accuracy)"
   ]
  },
  {
   "cell_type": "markdown",
   "id": "854abc26",
   "metadata": {},
   "source": [
    "### Making Predictions  \n",
    "\n",
    "here we will take values of all the independent variables and store it in input_data. values of Pregnancies, Glucose, BloodPressure, SkinThickness, Insulin, BMI, DiabetesPedigreeFunction, Age is taken and based on these value we are going to predict whether the patient is diabetic or not.\n",
    "\n",
    "if outcome = 1 then person is diabetic, if outcome is 0 the person is non-diabetic."
   ]
  },
  {
   "cell_type": "code",
   "execution_count": 56,
   "id": "5577a43c",
   "metadata": {},
   "outputs": [
    {
     "name": "stdout",
     "output_type": "stream",
     "text": [
      "[1]\n",
      "The person is diabetic\n"
     ]
    },
    {
     "name": "stderr",
     "output_type": "stream",
     "text": [
      "C:\\ProgramData\\Anaconda3\\lib\\site-packages\\sklearn\\base.py:450: UserWarning: X does not have valid feature names, but LogisticRegression was fitted with feature names\n",
      "  warnings.warn(\n"
     ]
    }
   ],
   "source": [
    "# predictive system \n",
    "\n",
    "input_data = (5,166,72,19,175,25.8,0.587,51)\n",
    "\n",
    "# changing the input_data to numpy array\n",
    "input_data_as_numpy_array = np.asarray(input_data)\n",
    "\n",
    "# reshape the array as we are predicting for one instance\n",
    "input_data_reshaped = input_data_as_numpy_array.reshape(1,-1)\n",
    "\n",
    "# model.predict() will make prediction based on the given input data and will store that in vatiable\n",
    "prediction = model.predict(input_data_reshaped)\n",
    "print(prediction)\n",
    "\n",
    "# prediction will result an array [1] or [0] we want value which is why we are doing prediction[0] to fetch the value present at\n",
    "# 0th index\n",
    "\n",
    "# condition if value = 0 then person in not diabetic and if value = 1 then person is diabetic\n",
    "if (prediction[0] == 0):\n",
    "  print('The person is not diabetic')\n",
    "else:\n",
    "  print('The person is diabetic')"
   ]
  },
  {
   "cell_type": "markdown",
   "id": "a5ffaddd",
   "metadata": {},
   "source": [
    "Now we'll make a pickle file and store our model in that so that we can use our model is other place too and we did'nt need to train our model it everytime. We'll just call this pickle file and our model will work ."
   ]
  },
  {
   "cell_type": "code",
   "execution_count": 59,
   "id": "1c09808e",
   "metadata": {},
   "outputs": [],
   "source": [
    "import pickle\n",
    "\n",
    "pickle.dump(model, open('logmodel', 'wb'))"
   ]
  },
  {
   "cell_type": "code",
   "execution_count": 60,
   "id": "bc5fa353",
   "metadata": {},
   "outputs": [],
   "source": [
    "# loading the pickle file. We'll load our trained model into file called trained_model\n",
    "\n",
    "loaded_model = pickle.load(open('logmodel', 'rb'))"
   ]
  },
  {
   "cell_type": "markdown",
   "id": "b2c67555",
   "metadata": {},
   "source": [
    "###  Making Prediction using Pickle File"
   ]
  },
  {
   "cell_type": "code",
   "execution_count": 61,
   "id": "d3e8b4d2",
   "metadata": {},
   "outputs": [
    {
     "name": "stdout",
     "output_type": "stream",
     "text": [
      "[1]\n",
      "The person is diabetic\n"
     ]
    },
    {
     "name": "stderr",
     "output_type": "stream",
     "text": [
      "C:\\ProgramData\\Anaconda3\\lib\\site-packages\\sklearn\\base.py:450: UserWarning: X does not have valid feature names, but LogisticRegression was fitted with feature names\n",
      "  warnings.warn(\n"
     ]
    }
   ],
   "source": [
    "input_data = (5,166,72,19,175,25.8,0.587,51)\n",
    "\n",
    "# changing the input_data to numpy array\n",
    "input_data_as_numpy_array = np.asarray(input_data)\n",
    "\n",
    "# reshape the array as we are predicting for one instance\n",
    "input_data_reshaped = input_data_as_numpy_array.reshape(1,-1)\n",
    "\n",
    "prediction = loaded_model.predict(input_data_reshaped)\n",
    "print(prediction)\n",
    "\n",
    "if (prediction[0] == 0):\n",
    "  print('The person is not diabetic')\n",
    "else:\n",
    "  print('The person is diabetic')"
   ]
  },
  {
   "cell_type": "raw",
   "id": "5515bc25",
   "metadata": {},
   "source": [
    "Our model is built and making predictions with an good accuracy.  \n",
    "\n",
    "We can create a streamlit app so that we can convert this into a web application. "
   ]
  },
  {
   "cell_type": "code",
   "execution_count": null,
   "id": "88b5f2a0",
   "metadata": {},
   "outputs": [],
   "source": []
  }
 ],
 "metadata": {
  "kernelspec": {
   "display_name": "Python 3 (ipykernel)",
   "language": "python",
   "name": "python3"
  },
  "language_info": {
   "codemirror_mode": {
    "name": "ipython",
    "version": 3
   },
   "file_extension": ".py",
   "mimetype": "text/x-python",
   "name": "python",
   "nbconvert_exporter": "python",
   "pygments_lexer": "ipython3",
   "version": "3.9.13"
  }
 },
 "nbformat": 4,
 "nbformat_minor": 5
}
